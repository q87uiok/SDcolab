{
  "nbformat": 4,
  "nbformat_minor": 0,
  "metadata": {
    "colab": {
      "provenance": [],
      "gpuType": "T4",
      "include_colab_link": true
    },
    "kernelspec": {
      "name": "python3",
      "display_name": "Python 3"
    },
    "language_info": {
      "name": "python"
    },
    "accelerator": "GPU",
    "widgets": {
      "application/vnd.jupyter.widget-state+json": {
        "a700b8fab577474fa84e34e84f33226a": {
          "model_module": "@jupyter-widgets/output",
          "model_name": "OutputModel",
          "model_module_version": "1.0.0",
          "state": {
            "_dom_classes": [],
            "_model_module": "@jupyter-widgets/output",
            "_model_module_version": "1.0.0",
            "_model_name": "OutputModel",
            "_view_count": null,
            "_view_module": "@jupyter-widgets/output",
            "_view_module_version": "1.0.0",
            "_view_name": "OutputView",
            "layout": "IPY_MODEL_e0aee583adc446c6ae7e42e2a5e06a37",
            "msg_id": "",
            "outputs": [
              {
                "output_type": "display_data",
                "data": {
                  "text/plain": "<IPython.core.display.HTML object>",
                  "text/html": "<span style='color:red;'><b>【</span> <span style='color:d;'>Installing A1111</span> <span style='color:red;'>】</span> <span></b></span>"
                },
                "metadata": {}
              },
              {
                "output_type": "stream",
                "name": "stdout",
                "text": [
                  "  A1111 ▶ https://github.com/AUTOMATIC1111/stable-diffusion-webui\n"
                ]
              },
              {
                "output_type": "stream",
                "name": "stdout",
                "text": [
                  "\n",
                  "  pull : a1111 \n",
                  "  from : https://github.com/gutris1/segsmaker \n",
                  "  into : /content/A1111\n",
                  "\n"
                ]
              },
              {
                "output_type": "stream",
                "name": "stdout",
                "text": [
                  "\u001b[?25l   \u001b[90m━━━━━━━━━━━━━━━━━━━━━━━━━━━━━━━━━━━━━━━━\u001b[0m \u001b[32m0.0/26.6 MB\u001b[0m \u001b[31m?\u001b[0m eta \u001b[36m-:--:--\u001b[0m"
                ]
              },
              {
                "output_type": "stream",
                "name": "stdout",
                "text": [
                  "\r\u001b[2K   \u001b[91m━━━━━━━━━━━━━━━━━━━━━━━━━━━━━━━━━━━━━━━\u001b[0m\u001b[91m╸\u001b[0m \u001b[32m26.5/26.6 MB\u001b[0m \u001b[31m250.5 MB/s\u001b[0m eta \u001b[36m0:00:01\u001b[0m\r\u001b[2K   \u001b[91m━━━━━━━━━━━━━━━━━━━━━━━━━━━━━━━━━━━━━━━\u001b[0m\u001b[91m╸\u001b[0m \u001b[32m26.5/26.6 MB\u001b[0m \u001b[31m250.5 MB/s\u001b[0m eta \u001b[36m0:00:01\u001b[0m"
                ]
              },
              {
                "output_type": "stream",
                "name": "stdout",
                "text": [
                  "\r\u001b[2K   \u001b[90m━━━━━━━━━━━━━━━━━━━━━━━━━━━━━━━━━━━━━━━━\u001b[0m \u001b[32m26.6/26.6 MB\u001b[0m \u001b[31m47.4 MB/s\u001b[0m eta \u001b[36m0:00:00\u001b[0m\n",
                  "\u001b[?25h"
                ]
              },
              {
                "output_type": "stream",
                "name": "stdout",
                "text": [
                  "  bd0ed2|\u001b[38;5;35mOK\u001b[0m  |   2.5MiB/s|\u001b[38;5;208m/\u001b[0mcontent\u001b[38;5;208m/\u001b[0mA1111\u001b[38;5;208m/\u001b[0masd\u001b[38;5;208m/\u001b[0mcontrolnet.py\n"
                ]
              },
              {
                "output_type": "stream",
                "name": "stdout",
                "text": [
                  "  14b226|\u001b[38;5;35mOK\u001b[0m  |   654KiB/s|\u001b[38;5;208m/\u001b[0mcontent\u001b[38;5;208m/\u001b[0mA1111\u001b[38;5;208m/\u001b[0msegsmaker.py\n"
                ]
              },
              {
                "output_type": "stream",
                "name": "stdout",
                "text": [
                  "  604505|\u001b[38;5;35mOK\u001b[0m  |   225MiB/s|\u001b[38;5;208m/\u001b[0mcontent\u001b[38;5;208m/\u001b[0mA1111\u001b[38;5;208m/\u001b[0mmodels\u001b[38;5;208m/\u001b[0mESRGAN\u001b[38;5;208m/\u001b[0m4x-UltraSharp.pth\n"
                ]
              },
              {
                "output_type": "stream",
                "name": "stdout",
                "text": [
                  "  19a81f|\u001b[38;5;35mOK\u001b[0m  |   121MiB/s|\u001b[38;5;208m/\u001b[0mcontent\u001b[38;5;208m/\u001b[0mA1111\u001b[38;5;208m/\u001b[0mmodels\u001b[38;5;208m/\u001b[0mESRGAN\u001b[38;5;208m/\u001b[0m4x-AnimeSharp.pth\n"
                ]
              },
              {
                "output_type": "stream",
                "name": "stdout",
                "text": [
                  "  a69219|\u001b[38;5;35mOK\u001b[0m  |   235MiB/s|\u001b[38;5;208m/\u001b[0mcontent\u001b[38;5;208m/\u001b[0mA1111\u001b[38;5;208m/\u001b[0mmodels\u001b[38;5;208m/\u001b[0mESRGAN\u001b[38;5;208m/\u001b[0m4x_NMKD-Superscale-SP_178000_G.pth\n"
                ]
              },
              {
                "output_type": "stream",
                "name": "stdout",
                "text": [
                  "  aa27d8|\u001b[38;5;35mOK\u001b[0m  |   105MiB/s|\u001b[38;5;208m/\u001b[0mcontent\u001b[38;5;208m/\u001b[0mA1111\u001b[38;5;208m/\u001b[0mmodels\u001b[38;5;208m/\u001b[0mESRGAN\u001b[38;5;208m/\u001b[0m8x_NMKD-Superscale_150000_G.pth\n"
                ]
              },
              {
                "output_type": "stream",
                "name": "stdout",
                "text": [
                  "\r                                                                                                                                                                                                                                                                                                            \r \u001b[35m【\u001b[0m\u001b[36m#\u001b[0m\u001b[38;5;35mf5ed3d\u001b[0m 125\u001b[38;5;135mMiB\u001b[0m\u001b[35m/\u001b[0m127\u001b[38;5;135mMiB\u001b[0m\u001b[35m(\u001b[0m98%\u001b[35m)\u001b[0m \u001b[36mCN\u001b[0m:\u001b[38;5;208m2\u001b[0m \u001b[36mDL\u001b[0m:173\u001b[38;5;135mMiB\u001b[0m\u001b[35m】\u001b[0m"
                ]
              },
              {
                "output_type": "stream",
                "name": "stdout",
                "text": [
                  "\n",
                  "  f5ed3d|\u001b[38;5;35mOK\u001b[0m  |   169MiB/s|\u001b[38;5;208m/\u001b[0mcontent\u001b[38;5;208m/\u001b[0mA1111\u001b[38;5;208m/\u001b[0mmodels\u001b[38;5;208m/\u001b[0mESRGAN\u001b[38;5;208m/\u001b[0m4x_RealisticRescaler_100000_G.pth\n"
                ]
              },
              {
                "output_type": "stream",
                "name": "stdout",
                "text": [
                  "  2e5444|\u001b[38;5;35mOK\u001b[0m  |   242MiB/s|\u001b[38;5;208m/\u001b[0mcontent\u001b[38;5;208m/\u001b[0mA1111\u001b[38;5;208m/\u001b[0mmodels\u001b[38;5;208m/\u001b[0mESRGAN\u001b[38;5;208m/\u001b[0m8x_RealESRGAN.pth\n"
                ]
              },
              {
                "output_type": "stream",
                "name": "stdout",
                "text": [
                  "  f057f5|\u001b[38;5;35mOK\u001b[0m  |   233MiB/s|\u001b[38;5;208m/\u001b[0mcontent\u001b[38;5;208m/\u001b[0mA1111\u001b[38;5;208m/\u001b[0mmodels\u001b[38;5;208m/\u001b[0mESRGAN\u001b[38;5;208m/\u001b[0m4x_foolhardy_Remacri.pth\n"
                ]
              },
              {
                "output_type": "stream",
                "name": "stdout",
                "text": [
                  "  8385ec|\u001b[38;5;35mOK\u001b[0m  |   236MiB/s|\u001b[38;5;208m/\u001b[0mcontent\u001b[38;5;208m/\u001b[0mA1111\u001b[38;5;208m/\u001b[0mmodels\u001b[38;5;208m/\u001b[0mESRGAN\u001b[38;5;208m/\u001b[0m4x_NMKD-YandereNeoXL_200k.pth\n"
                ]
              },
              {
                "output_type": "stream",
                "name": "stdout",
                "text": [
                  "  484809|\u001b[38;5;35mOK\u001b[0m  |   217MiB/s|\u001b[38;5;208m/\u001b[0mcontent\u001b[38;5;208m/\u001b[0mA1111\u001b[38;5;208m/\u001b[0mmodels\u001b[38;5;208m/\u001b[0mESRGAN\u001b[38;5;208m/\u001b[0m4x_NMKD-UltraYandere_300k.pth\n"
                ]
              },
              {
                "output_type": "stream",
                "name": "stdout",
                "text": [
                  "  666a1f|\u001b[38;5;35mOK\u001b[0m  |    30MiB/s|\u001b[38;5;208m/\u001b[0mcontent\u001b[38;5;208m/\u001b[0mA1111\u001b[38;5;208m/\u001b[0mhtml\u001b[38;5;208m/\u001b[0mcard-no-preview.png\n"
                ]
              },
              {
                "output_type": "stream",
                "name": "stdout",
                "text": [
                  "  75b0f3|\u001b[38;5;35mOK\u001b[0m  |    76MiB/s|\u001b[38;5;208m/\u001b[0mcontent\u001b[38;5;208m/\u001b[0mA1111\u001b[38;5;208m/\u001b[0membeddings.zip\n"
                ]
              },
              {
                "output_type": "stream",
                "name": "stdout",
                "text": [
                  "\r                                                                                                                                                                                                                                                                                                            \r \u001b[35m【\u001b[0m\u001b[36m#\u001b[0m\u001b[38;5;35m9f1614\u001b[0m 124\u001b[38;5;135mMiB\u001b[0m\u001b[35m/\u001b[0m319\u001b[38;5;135mMiB\u001b[0m\u001b[35m(\u001b[0m39%\u001b[35m)\u001b[0m \u001b[36mCN\u001b[0m:\u001b[38;5;208m16\u001b[0m \u001b[36mDL\u001b[0m:173\u001b[38;5;135mMiB\u001b[0m \u001b[36mETA\u001b[0m:\u001b[33m1s\u001b[0m\u001b[35m】\u001b[0m"
                ]
              },
              {
                "output_type": "stream",
                "name": "stdout",
                "text": [
                  "\n",
                  "  9f1614|\u001b[38;5;35mOK\u001b[0m  |   208MiB/s|\u001b[38;5;208m/\u001b[0mcontent\u001b[38;5;208m/\u001b[0mA1111\u001b[38;5;208m/\u001b[0mmodels\u001b[38;5;208m/\u001b[0mVAE\u001b[38;5;208m/\u001b[0mvae-ft-mse-840000-ema-pruned.safetensors\n"
                ]
              },
              {
                "output_type": "stream",
                "name": "stdout",
                "text": [
                  "  858d8a|\u001b[38;5;35mOK\u001b[0m  |    22MiB/s|\u001b[38;5;208m/\u001b[0mcontent\u001b[38;5;208m/\u001b[0mA1111\u001b[38;5;208m/\u001b[0membeddingsXL.zip\n"
                ]
              },
              {
                "output_type": "stream",
                "name": "stdout",
                "text": [
                  "\r                                                                                                                                                                                                                                                                                                            \r \u001b[35m【\u001b[0m\u001b[36m#\u001b[0m\u001b[38;5;35m005aff\u001b[0m 168\u001b[38;5;135mMiB\u001b[0m\u001b[35m/\u001b[0m319\u001b[38;5;135mMiB\u001b[0m\u001b[35m(\u001b[0m52%\u001b[35m)\u001b[0m \u001b[36mCN\u001b[0m:\u001b[38;5;208m16\u001b[0m \u001b[36mDL\u001b[0m:229\u001b[38;5;135mMiB\u001b[0m\u001b[35m】\u001b[0m"
                ]
              },
              {
                "output_type": "stream",
                "name": "stdout",
                "text": [
                  "\r                                                                                                                                                                                                                                                                                                            \r \u001b[35m【\u001b[0m\u001b[36m#\u001b[0m\u001b[38;5;35m005aff\u001b[0m 318\u001b[38;5;135mMiB\u001b[0m\u001b[35m/\u001b[0m319\u001b[38;5;135mMiB\u001b[0m\u001b[35m(\u001b[0m99%\u001b[35m)\u001b[0m \u001b[36mCN\u001b[0m:\u001b[38;5;208m1\u001b[0m \u001b[36mDL\u001b[0m:138\u001b[38;5;135mMiB\u001b[0m\u001b[35m】\u001b[0m"
                ]
              },
              {
                "output_type": "stream",
                "name": "stdout",
                "text": [
                  "\n",
                  "  005aff|\u001b[38;5;35mOK\u001b[0m  |   137MiB/s|\u001b[38;5;208m/\u001b[0mcontent\u001b[38;5;208m/\u001b[0mA1111\u001b[38;5;208m/\u001b[0mmodels\u001b[38;5;208m/\u001b[0mVAE\u001b[38;5;208m/\u001b[0msdxl_vae.safetensors\n"
                ]
              },
              {
                "output_type": "display_data",
                "data": {
                  "text/plain": "<IPython.core.display.HTML object>",
                  "text/html": "<span style='color:red;'><br><b>【</span> <span style='color:d;'>Installing Extensions</span> <span style='color:red;'>】</span> <span></b></span>"
                },
                "metadata": {}
              },
              {
                "output_type": "stream",
                "name": "stdout",
                "text": [
                  "  1-sd-dynamic-thresholding ▶ https://github.com/mcmonkeyprojects/sd-dynamic-thresholding\n"
                ]
              },
              {
                "output_type": "stream",
                "name": "stdout",
                "text": [
                  "  3-bmab ▶ https://github.com/gutris1/sd-webui-bmab\n"
                ]
              },
              {
                "output_type": "stream",
                "name": "stdout",
                "text": [
                  "  4-adetailer ▶ https://github.com/Bing-su/adetailer\n"
                ]
              },
              {
                "output_type": "stream",
                "name": "stdout",
                "text": [
                  "  sd-webui-supermerger ▶ https://github.com/hako-mikan/sd-webui-supermerger\n"
                ]
              },
              {
                "output_type": "stream",
                "name": "stdout",
                "text": [
                  "  sd-webui-infinite-image-browsing ▶ https://github.com/zanllp/sd-webui-infinite-image-browsing\n"
                ]
              },
              {
                "output_type": "stream",
                "name": "stdout",
                "text": [
                  "  a1111-sd-webui-tagcomplete ▶ https://github.com/DominikDoom/a1111-sd-webui-tagcomplete\n"
                ]
              },
              {
                "output_type": "stream",
                "name": "stdout",
                "text": [
                  "  ultimate-upscale-for-automatic1111 ▶ https://github.com/Coyote-A/ultimate-upscale-for-automatic1111\n"
                ]
              },
              {
                "output_type": "stream",
                "name": "stdout",
                "text": [
                  "  sd-webui-controlnet ▶ https://github.com/Mikubill/sd-webui-controlnet\n"
                ]
              },
              {
                "output_type": "stream",
                "name": "stdout",
                "text": [
                  "  DWPose ▶ https://github.com/IDEA-Research/DWPose\n"
                ]
              },
              {
                "output_type": "stream",
                "name": "stdout",
                "text": [
                  "  sd-hub ▶ https://github.com/gutris1/sd-hub\n"
                ]
              },
              {
                "output_type": "stream",
                "name": "stdout",
                "text": [
                  "  sd-image-info ▶ https://github.com/gutris1/sd-image-info\n"
                ]
              },
              {
                "output_type": "stream",
                "name": "stdout",
                "text": [
                  "  sd-image-viewer ▶ https://github.com/gutris1/sd-image-viewer\n"
                ]
              },
              {
                "output_type": "stream",
                "name": "stdout",
                "text": [
                  "  Scroll-Bar ▶ https://github.com/gutris1/Scroll-Bar\n"
                ]
              },
              {
                "output_type": "stream",
                "name": "stdout",
                "text": [
                  "  timer_timer ▶ https://github.com/gutris1/timer_timer\n"
                ]
              },
              {
                "output_type": "stream",
                "name": "stdout",
                "text": [
                  "  sd-simple-dimension-preset ▶ https://github.com/gutris1/sd-simple-dimension-preset\n"
                ]
              },
              {
                "output_type": "stream",
                "name": "stdout",
                "text": [
                  "  sd-civitai-browser-plus ▶ https://github.com/BlafKing/sd-civitai-browser-plus\n"
                ]
              }
            ]
          }
        },
        "e0aee583adc446c6ae7e42e2a5e06a37": {
          "model_module": "@jupyter-widgets/base",
          "model_name": "LayoutModel",
          "model_module_version": "1.2.0",
          "state": {
            "_model_module": "@jupyter-widgets/base",
            "_model_module_version": "1.2.0",
            "_model_name": "LayoutModel",
            "_view_count": null,
            "_view_module": "@jupyter-widgets/base",
            "_view_module_version": "1.2.0",
            "_view_name": "LayoutView",
            "align_content": null,
            "align_items": null,
            "align_self": null,
            "border": null,
            "bottom": null,
            "display": null,
            "flex": null,
            "flex_flow": null,
            "grid_area": null,
            "grid_auto_columns": null,
            "grid_auto_flow": null,
            "grid_auto_rows": null,
            "grid_column": null,
            "grid_gap": null,
            "grid_row": null,
            "grid_template_areas": null,
            "grid_template_columns": null,
            "grid_template_rows": null,
            "height": null,
            "justify_content": null,
            "justify_items": null,
            "left": null,
            "margin": null,
            "max_height": null,
            "max_width": null,
            "min_height": null,
            "min_width": null,
            "object_fit": null,
            "object_position": null,
            "order": null,
            "overflow": null,
            "overflow_x": null,
            "overflow_y": null,
            "padding": null,
            "right": null,
            "top": null,
            "visibility": null,
            "width": null
          }
        },
        "ae39e97a9b1447dbab4c7612df7afd48": {
          "model_module": "@jupyter-widgets/output",
          "model_name": "OutputModel",
          "model_module_version": "1.0.0",
          "state": {
            "_dom_classes": [],
            "_model_module": "@jupyter-widgets/output",
            "_model_module_version": "1.0.0",
            "_model_name": "OutputModel",
            "_view_count": null,
            "_view_module": "@jupyter-widgets/output",
            "_view_module_version": "1.0.0",
            "_view_name": "OutputView",
            "layout": "IPY_MODEL_6b3df2e244b44abdbaf33263104c7188",
            "msg_id": "",
            "outputs": [
              {
                "output_type": "display_data",
                "data": {
                  "text/plain": "<IPython.core.display.HTML object>",
                  "text/html": "<span style='color:red;'><br><b>【</span> <span style='color:d;'>Done</span> <span style='color:red;'>】</span> <span></b></span>"
                },
                "metadata": {}
              }
            ]
          }
        },
        "6b3df2e244b44abdbaf33263104c7188": {
          "model_module": "@jupyter-widgets/base",
          "model_name": "LayoutModel",
          "model_module_version": "1.2.0",
          "state": {
            "_model_module": "@jupyter-widgets/base",
            "_model_module_version": "1.2.0",
            "_model_name": "LayoutModel",
            "_view_count": null,
            "_view_module": "@jupyter-widgets/base",
            "_view_module_version": "1.2.0",
            "_view_name": "LayoutView",
            "align_content": null,
            "align_items": null,
            "align_self": null,
            "border": null,
            "bottom": null,
            "display": null,
            "flex": null,
            "flex_flow": null,
            "grid_area": null,
            "grid_auto_columns": null,
            "grid_auto_flow": null,
            "grid_auto_rows": null,
            "grid_column": null,
            "grid_gap": null,
            "grid_row": null,
            "grid_template_areas": null,
            "grid_template_columns": null,
            "grid_template_rows": null,
            "height": null,
            "justify_content": null,
            "justify_items": null,
            "left": null,
            "margin": null,
            "max_height": null,
            "max_width": null,
            "min_height": null,
            "min_width": null,
            "object_fit": null,
            "object_position": null,
            "order": null,
            "overflow": null,
            "overflow_x": null,
            "overflow_y": null,
            "padding": null,
            "right": null,
            "top": null,
            "visibility": null,
            "width": null
          }
        }
      }
    }
  },
  "cells": [
    {
      "cell_type": "markdown",
      "metadata": {
        "id": "view-in-github",
        "colab_type": "text"
      },
      "source": [
        "<a href=\"https://colab.research.google.com/github/q87uiok/SDcolab/blob/main/notebook/Segsmaker_COLAB.ipynb\" target=\"_parent\"><img src=\"https://colab.research.google.com/assets/colab-badge.svg\" alt=\"Open In Colab\"/></a>"
      ]
    },
    {
      "cell_type": "markdown",
      "source": [
        "<a href=\"https://github.com/gutris1/segsmaker\">\n",
        "  <img alt=\"GitHub repo\" src=\"https://img.shields.io/badge/GitHub-6e5494?style=for-the-badge&logo=github&logoColor=white\"/>\n",
        "</a>"
      ],
      "metadata": {
        "id": "COlOWoTOMKSP"
      }
    },
    {
      "cell_type": "code",
      "execution_count": null,
      "metadata": {
        "id": "tQqllRM-MCnT",
        "outputId": "2b37a442-0389-41e9-8e8b-0ffc09951cf0",
        "colab": {
          "base_uri": "https://localhost:8080/",
          "height": 937,
          "referenced_widgets": [
            "a700b8fab577474fa84e34e84f33226a",
            "e0aee583adc446c6ae7e42e2a5e06a37",
            "ae39e97a9b1447dbab4c7612df7afd48",
            "6b3df2e244b44abdbaf33263104c7188"
          ]
        }
      },
      "outputs": [
        {
          "output_type": "display_data",
          "data": {
            "text/plain": [
              "Output()"
            ],
            "application/vnd.jupyter.widget-view+json": {
              "version_major": 2,
              "version_minor": 0,
              "model_id": "a700b8fab577474fa84e34e84f33226a"
            }
          },
          "metadata": {}
        },
        {
          "output_type": "display_data",
          "data": {
            "text/plain": [
              "Output()"
            ],
            "application/vnd.jupyter.widget-view+json": {
              "version_major": 2,
              "version_minor": 0,
              "model_id": "ae39e97a9b1447dbab4c7612df7afd48"
            }
          },
          "metadata": {}
        }
      ],
      "source": [
        "# @title <b><font color='orange'>WebUI Installer</font></b> {\"display-mode\":\"form\"}\n",
        "\n",
        "Webui = 'A1111' # @param [\"A1111\", \"Forge\", \"ComfyUI\", \"ReForge\", \"SwarmUI\"]\n",
        "Civitai___Key = '754d3ce9deb86fbe13cea195ebc6c500' # @param { \"type\": \"string\", \"placeholder\": \"Your Civitai API key (required)\" }\n",
        "HF_Read_Token = '' # @param {type:\"string\", placeholder:\"Your Huggingface READ token (optional)\"}\n",
        "Mount_GDrive = 'No' # @param [\"Yes\", \"No\"]\n",
        "BGM = '' # @param {type:\"string\", placeholder:\"youtube video id, default to dQw4w9WgXcQ\"}\n",
        "\n",
        "!curl -sLo /content/setup.py https://github.com/gutris1/segsmaker/raw/main/script/KC/setup.py\n",
        "\n",
        "if Mount_GDrive == 'Yes':\n",
        "    from google.colab import drive\n",
        "    drive.mount('/content/drive')\n",
        "\n",
        "%run /content/setup.py --webui=\"$Webui\" --civitai_key=\"$Civitai___Key\" --hf_read_token=\"$HF_Read_Token\" --bgm=\"$BGM\"\n",
        "\n",
        "from pathlib import Path\n",
        "\n",
        "if Mount_GDrive == 'Yes':\n",
        "    d = Path('/content/drive/MyDrive/Segsmaker')\n",
        "\n",
        "    for n, p in {'checkpoint': CKPT, 'lora': LORA, 'vae': VAE, 'embeddings': Embeddings}.items(): # type: ignore\n",
        "        f = d / n\n",
        "        f.mkdir(parents=True, exist_ok=True)\n",
        "        s = p / f'drive-{n}'\n",
        "        s.symlink_to(f, target_is_directory=True)\n",
        "\n",
        "    !rm -rf $WebUI_Output\n",
        "    o = d / {'ComfyUI': 'comfyui-output', 'SwarmUI': 'swarmui-output'}.get(Webui, 'output')\n",
        "    o.mkdir(parents=True, exist_ok=True)\n",
        "    WebUI_Output.symlink_to(o, target_is_directory=True)"
      ]
    },
    {
      "cell_type": "code",
      "source": [
        "''' These are placeholders for commands with empty inputs. '''\n",
        "''' Replace them with actual values or skip/delete this cell. '''\n",
        "\n",
        "\n",
        "''' SD Extensions / ComfyUI Custom Nodes '''\n",
        "%cd -q $Extensions\n",
        "!git clone\n",
        "\n",
        "''' VAE '''\n",
        "%cd -q $VAE\n",
        "%download\n",
        "\n",
        "''' Embeddings '''\n",
        "%cd -q $Embeddings\n",
        "%download\n",
        "\n",
        "''' Upscalers '''\n",
        "%cd -q $Upscalers\n",
        "%download\n",
        "\n",
        "''' FLUX Unet '''\n",
        "%cd -q $UNET\n",
        "%download\n",
        "\n",
        "''' FLUX Clip '''\n",
        "%cd -q $CLIP\n",
        "%download"
      ],
      "metadata": {
        "id": "9TeZZ9WrOsxS"
      },
      "execution_count": null,
      "outputs": []
    },
    {
      "cell_type": "code",
      "source": [
        "''' Checkpoint '''\n",
        "%cd -q $CKPT\n",
        "%download https://civitai.com/models/827184/wai-nsfw-illustrious-sdxl\n",
        "\n",
        "''' LoRA '''\n",
        "%cd -q $LORA\n",
        "%download https://civitai.com/models/1082845/ilxlpony-togawagatame?modelVersionId=1238394\n",
        "%download https://civitai.com/api/download/models/1549826?type=Model&format=SafeTensor\n",
        "%download https://civitai.com/models/1498136/pussy-spec-report-illustrious-xl-v20\n",
        "%download https://civitai.com/models/731660/hugkissingbreast-press-pov-remake\n",
        "%download https://civitai.com/models/974567/ccd-camera-insertion-concept-illustrious-pony\n",
        "%download https://civitai.com/models/1356714/lora-illustriousxl-improved-spread-pussy\n",
        "%download https://civitai.com/models/1033274?modelVersionId=1167458\n",
        "%download https://civitai.com/models/1172830/hymen\n",
        "%download https://civitai.com/models/1177959/multiple-girls-slider-add-or-remove-subjects\n",
        "%download https://civitai.com/models/918034/conceptmultiple-views\n",
        "%download https://civitai.com/models/1265153/lucifer-sin-nanatsu-no-taizai-or-seven-mortal-sins\n",
        "%download https://civitai.com/models/1354857/multiple-girls-doggystyle\n",
        "%download https://civitai.com/models/1467536/half-spread-pussy-from-below-concept\n",
        "%download https://civitai.com/models/1433575/giri-style-nsfw-sex\n",
        "%download https://civitai.com/models/1341431/shinystar?modelVersionId=1624095\n",
        "%download https://civitai.com/models/1335716?modelVersionId=1643478\n",
        "%download https://civitai.com/models/1472540/spitroast-facing-ass-side-pov\n",
        "%download https://civitai.com/models/1488059/ass-ripple-booty-bounce-butt-impact-clapping-cheeks-etc-illustrious\n",
        "%download https://civitai.com/models/1025710/age-slider-lora-or-illustrious-xl\n",
        "%download https://civitai.com/models/1098655/anus-upgrade-lora-detailer-lora-noobai-v10-fix\n",
        "%download https://civitai.com/models/1512854/extremely-detailed-pussy-spread\n",
        "%download https://civitai.com/models/1555765/qiandai-yiyu-artist-style-illustrious\n",
        "%download https://civitai.com/models/1460002/female-pov-1st-person-point-of-view\n",
        "%download https://civitai.com/models/1583059/ilfemale-ejaculation\n",
        "%download https://civitai.com/models/1586131/pt-style-ill-v2\n",
        "%download https://civitai.com/models/1560809/better-uterus\n",
        "%download https://civitai.com/models/1632252/ilhymen\n",
        "%download https://civitai.com/models/1550719/alixx-style-or-goofy-ai\n",
        "%download https://civitai.com/models/929497/aesthetic-quality-modifiers-masterpiece?modelVersionId=1398703\n",
        "%download https://civitai.com/models/1163407/shiiro0-styles-or-003?modelVersionId=1308731"
      ],
      "metadata": {
        "id": "CuR9tiSnPRBM",
        "outputId": "0b185cef-c011-44d3-c7ef-416f4da3f0bf",
        "colab": {
          "base_uri": "https://localhost:8080/"
        }
      },
      "execution_count": null,
      "outputs": [
        {
          "output_type": "stream",
          "name": "stdout",
          "text": [
            " \u001b[35m【\u001b[0m\u001b[36m#\u001b[0m\u001b[38;5;35m5b21dc\u001b[0m 6.3\u001b[38;5;135mGiB\u001b[0m\u001b[35m/\u001b[0m6.4\u001b[38;5;135mGiB\u001b[0m\u001b[35m(\u001b[0m98%\u001b[35m)\u001b[0m \u001b[36mCN\u001b[0m:\u001b[38;5;208m16\u001b[0m \u001b[36mDL\u001b[0m:93\u001b[38;5;135mMiB\u001b[0m\u001b[35m】\u001b[0m\n",
            "  5b21dc|\u001b[38;5;35mOK\u001b[0m  |   127MiB/s|\u001b[38;5;208m/\u001b[0mcontent\u001b[38;5;208m/\u001b[0mA1111\u001b[38;5;208m/\u001b[0mmodels\u001b[38;5;208m/\u001b[0mStable-diffusion\u001b[38;5;208m/\u001b[0mprefectIllustriousXL_v15.safetensors\n",
            " \u001b[35m【\u001b[0m\u001b[36m#\u001b[0m\u001b[38;5;35m668bec\u001b[0m 157\u001b[38;5;135mMiB\u001b[0m\u001b[35m/\u001b[0m162\u001b[38;5;135mMiB\u001b[0m\u001b[35m(\u001b[0m96%\u001b[35m)\u001b[0m \u001b[36mCN\u001b[0m:\u001b[38;5;208m12\u001b[0m \u001b[36mDL\u001b[0m:110\u001b[38;5;135mMiB\u001b[0m\u001b[35m】\u001b[0m\n",
            "  668bec|\u001b[38;5;35mOK\u001b[0m  |    79MiB/s|\u001b[38;5;208m/\u001b[0mcontent\u001b[38;5;208m/\u001b[0mA1111\u001b[38;5;208m/\u001b[0mmodels\u001b[38;5;208m/\u001b[0mLora\u001b[38;5;208m/\u001b[0mtogawagatame_ilxl_v1.safetensors\n",
            " \u001b[35m【\u001b[0m\u001b[36m#\u001b[0m\u001b[38;5;35me5c322\u001b[0m 164\u001b[38;5;135mMiB\u001b[0m\u001b[35m/\u001b[0m217\u001b[38;5;135mMiB\u001b[0m\u001b[35m(\u001b[0m75%\u001b[35m)\u001b[0m \u001b[36mCN\u001b[0m:\u001b[38;5;208m16\u001b[0m \u001b[36mDL\u001b[0m:167\u001b[38;5;135mMiB\u001b[0m\u001b[35m】\u001b[0m\n",
            "  e5c322|\u001b[38;5;35mOK\u001b[0m  |   133MiB/s|\u001b[38;5;208m/\u001b[0mcontent\u001b[38;5;208m/\u001b[0mA1111\u001b[38;5;208m/\u001b[0mmodels\u001b[38;5;208m/\u001b[0mLora\u001b[38;5;208m/\u001b[0mUterus_with_Ovaries_for_IllustriousPonyXL.safetensors\n",
            " \u001b[35m【\u001b[0m\u001b[36m#\u001b[0m\u001b[38;5;35m92058f\u001b[0m 45\u001b[38;5;135mMiB\u001b[0m\u001b[35m/\u001b[0m244\u001b[38;5;135mMiB\u001b[0m\u001b[35m(\u001b[0m18%\u001b[35m)\u001b[0m \u001b[36mCN\u001b[0m:\u001b[38;5;208m16\u001b[0m \u001b[36mDL\u001b[0m:94\u001b[38;5;135mMiB\u001b[0m \u001b[36mETA\u001b[0m:\u001b[33m2s\u001b[0m\u001b[35m】\u001b[0m\n",
            "  92058f|\u001b[38;5;35mOK\u001b[0m  |   193MiB/s|\u001b[38;5;208m/\u001b[0mcontent\u001b[38;5;208m/\u001b[0mA1111\u001b[38;5;208m/\u001b[0mmodels\u001b[38;5;208m/\u001b[0mLora\u001b[38;5;208m/\u001b[0mpussy spec report_ILL-v2.1.safetensors\n",
            "  9d3c29|\u001b[38;5;35mOK\u001b[0m  |   102MiB/s|\u001b[38;5;208m/\u001b[0mcontent\u001b[38;5;208m/\u001b[0mA1111\u001b[38;5;208m/\u001b[0mmodels\u001b[38;5;208m/\u001b[0mLora\u001b[38;5;208m/\u001b[0mHugkissingbreast_press_pov_Illustrious-000005.safetensors\n",
            " \u001b[35m【\u001b[0m\u001b[36m#\u001b[0m\u001b[38;5;35mb7aad2\u001b[0m 378\u001b[38;5;135mMiB\u001b[0m\u001b[35m/\u001b[0m386\u001b[38;5;135mMiB\u001b[0m\u001b[35m(\u001b[0m97%\u001b[35m)\u001b[0m \u001b[36mCN\u001b[0m:\u001b[38;5;208m16\u001b[0m \u001b[36mDL\u001b[0m:184\u001b[38;5;135mMiB\u001b[0m\u001b[35m】\u001b[0m\n",
            "  b7aad2|\u001b[38;5;35mOK\u001b[0m  |   134MiB/s|\u001b[38;5;208m/\u001b[0mcontent\u001b[38;5;208m/\u001b[0mA1111\u001b[38;5;208m/\u001b[0mmodels\u001b[38;5;208m/\u001b[0mLora\u001b[38;5;208m/\u001b[0mCCD.safetensors\n",
            " \u001b[35m【\u001b[0m\u001b[36m#\u001b[0m\u001b[38;5;35m18b459\u001b[0m 216\u001b[38;5;135mMiB\u001b[0m\u001b[35m/\u001b[0m217\u001b[38;5;135mMiB\u001b[0m\u001b[35m(\u001b[0m99%\u001b[35m)\u001b[0m \u001b[36mCN\u001b[0m:\u001b[38;5;208m1\u001b[0m \u001b[36mDL\u001b[0m:115\u001b[38;5;135mMiB\u001b[0m\u001b[35m】\u001b[0m\n",
            "  18b459|\u001b[38;5;35mOK\u001b[0m  |   115MiB/s|\u001b[38;5;208m/\u001b[0mcontent\u001b[38;5;208m/\u001b[0mA1111\u001b[38;5;208m/\u001b[0mmodels\u001b[38;5;208m/\u001b[0mLora\u001b[38;5;208m/\u001b[0mExtr_Spread_Pussy_ILXL.safetensors\n"
          ]
        }
      ]
    },
    {
      "cell_type": "code",
      "source": [
        "''' Controlnet '''\n",
        "%run $Controlnet_Widget"
      ],
      "metadata": {
        "id": "wO4OTCOWALEc"
      },
      "execution_count": null,
      "outputs": []
    },
    {
      "cell_type": "markdown",
      "source": [
        "## Launcher\n",
        "args list :\n",
        "-  **A1111** = `--xformers`\n",
        "- **Forge** = `--disable-xformers --opt-sdp-attention --cuda-stream --pin-shared-memory`\n",
        "- **ComfyUI** = `--dont-print-server --preview-method auto --use-pytorch-cross-attention`\n",
        "- **ReForge** = `--xformers --cuda-stream --pin-shared-memory`\n",
        "- **SwarmUI** = `--launch_mode none`\n",
        "<br><br>\n",
        "\n",
        "For ComfyUI, add `--skip-comfyui-check` to skip checking the main requirements and custom node dependencies\n",
        "\n",
        "Add **--N=ngrok_token** to start NGROK tunnel<br>\n",
        "Add **--Z=zrok_token** to start ZROK tunnel"
      ],
      "metadata": {
        "id": "BB8pCZnrQnR9"
      }
    },
    {
      "cell_type": "code",
      "source": [
        "%cd -q $WebUI\n",
        "%run segsmaker.py --xformers"
      ],
      "metadata": {
        "id": "ps7AEUdGX2iE"
      },
      "execution_count": null,
      "outputs": []
    }
  ]
}
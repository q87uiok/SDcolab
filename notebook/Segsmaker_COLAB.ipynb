{
  "nbformat": 4,
  "nbformat_minor": 0,
  "metadata": {
    "colab": {
      "provenance": [],
      "gpuType": "T4"
    },
    "kernelspec": {
      "name": "python3",
      "display_name": "Python 3"
    },
    "language_info": {
      "name": "python"
    },
    "accelerator": "GPU",
    "widgets": {
      "application/vnd.jupyter.widget-state+json": {
        "ac43c4baf16f44a48765a112b9a4c0b6": {
          "model_module": "@jupyter-widgets/output",
          "model_name": "OutputModel",
          "model_module_version": "1.0.0",
          "state": {
            "_dom_classes": [],
            "_model_module": "@jupyter-widgets/output",
            "_model_module_version": "1.0.0",
            "_model_name": "OutputModel",
            "_view_count": null,
            "_view_module": "@jupyter-widgets/output",
            "_view_module_version": "1.0.0",
            "_view_name": "OutputView",
            "layout": "IPY_MODEL_4023c3dc7e354c83ad00a2dce72ac0a5",
            "msg_id": "",
            "outputs": [
              {
                "output_type": "display_data",
                "data": {
                  "text/plain": "<IPython.core.display.HTML object>",
                  "text/html": "<span style='color:red;'><b>【</span> <span style='color:d;'>Installing A1111</span> <span style='color:red;'>】</span> <span></b></span>"
                },
                "metadata": {}
              },
              {
                "output_type": "stream",
                "name": "stdout",
                "text": [
                  "  A1111 ▶ https://github.com/AUTOMATIC1111/stable-diffusion-webui\n"
                ]
              },
              {
                "output_type": "stream",
                "name": "stdout",
                "text": [
                  "\n",
                  "  pull : a1111 \n",
                  "  from : https://github.com/gutris1/segsmaker \n",
                  "  into : /content/A1111\n",
                  "\n"
                ]
              },
              {
                "output_type": "stream",
                "name": "stdout",
                "text": [
                  "\u001b[?25l   \u001b[90m━━━━━━━━━━━━━━━━━━━━━━━━━━━━━━━━━━━━━━━━\u001b[0m \u001b[32m0.0/26.6 MB\u001b[0m \u001b[31m?\u001b[0m eta \u001b[36m-:--:--\u001b[0m"
                ]
              },
              {
                "output_type": "stream",
                "name": "stdout",
                "text": [
                  "\r\u001b[2K   \u001b[91m━━━━━━━━━━━━━━━━━━━━\u001b[0m\u001b[91m╸\u001b[0m\u001b[90m━━━━━━━━━━━━━━━━━━━\u001b[0m \u001b[32m13.6/26.6 MB\u001b[0m \u001b[31m267.9 MB/s\u001b[0m eta \u001b[36m0:00:01\u001b[0m"
                ]
              },
              {
                "output_type": "stream",
                "name": "stdout",
                "text": [
                  "\r\u001b[2K   \u001b[91m━━━━━━━━━━━━━━━━━━━━━━━━━━━━━━━━━━━━━━━\u001b[0m\u001b[91m╸\u001b[0m \u001b[32m26.5/26.6 MB\u001b[0m \u001b[31m80.0 MB/s\u001b[0m eta \u001b[36m0:00:01\u001b[0m"
                ]
              },
              {
                "output_type": "stream",
                "name": "stdout",
                "text": [
                  "\r\u001b[2K   \u001b[91m━━━━━━━━━━━━━━━━━━━━━━━━━━━━━━━━━━━━━━━\u001b[0m\u001b[91m╸\u001b[0m \u001b[32m26.5/26.6 MB\u001b[0m \u001b[31m80.0 MB/s\u001b[0m eta \u001b[36m0:00:01\u001b[0m\r\u001b[2K   \u001b[90m━━━━━━━━━━━━━━━━━━━━━━━━━━━━━━━━━━━━━━━━\u001b[0m \u001b[32m26.6/26.6 MB\u001b[0m \u001b[31m34.7 MB/s\u001b[0m eta \u001b[36m0:00:00\u001b[0m\n",
                  "\u001b[?25h"
                ]
              },
              {
                "output_type": "stream",
                "name": "stdout",
                "text": [
                  "  39c05f|\u001b[38;5;35mOK\u001b[0m  |   2.2MiB/s|\u001b[38;5;208m/\u001b[0mcontent\u001b[38;5;208m/\u001b[0mA1111\u001b[38;5;208m/\u001b[0masd\u001b[38;5;208m/\u001b[0mcontrolnet.py\n"
                ]
              },
              {
                "output_type": "stream",
                "name": "stdout",
                "text": [
                  "  fb7545|\u001b[38;5;35mOK\u001b[0m  |   654KiB/s|\u001b[38;5;208m/\u001b[0mcontent\u001b[38;5;208m/\u001b[0mA1111\u001b[38;5;208m/\u001b[0msegsmaker.py\n"
                ]
              },
              {
                "output_type": "stream",
                "name": "stdout",
                "text": [
                  "  6d58de|\u001b[38;5;35mOK\u001b[0m  |   127MiB/s|\u001b[38;5;208m/\u001b[0mcontent\u001b[38;5;208m/\u001b[0mA1111\u001b[38;5;208m/\u001b[0mmodels\u001b[38;5;208m/\u001b[0mESRGAN\u001b[38;5;208m/\u001b[0m4x-UltraSharp.pth\n"
                ]
              },
              {
                "output_type": "stream",
                "name": "stdout",
                "text": [
                  "  11f880|\u001b[38;5;35mOK\u001b[0m  |    86MiB/s|\u001b[38;5;208m/\u001b[0mcontent\u001b[38;5;208m/\u001b[0mA1111\u001b[38;5;208m/\u001b[0mmodels\u001b[38;5;208m/\u001b[0mESRGAN\u001b[38;5;208m/\u001b[0m4x-AnimeSharp.pth\n"
                ]
              },
              {
                "output_type": "stream",
                "name": "stdout",
                "text": [
                  "\r                                                                                                                                                                                                                                                                                                            \r \u001b[35m【\u001b[0m\u001b[36m#\u001b[0m\u001b[38;5;35m490a79\u001b[0m 62\u001b[38;5;135mMiB\u001b[0m\u001b[35m/\u001b[0m63\u001b[38;5;135mMiB\u001b[0m\u001b[35m(\u001b[0m98%\u001b[35m)\u001b[0m \u001b[36mCN\u001b[0m:\u001b[38;5;208m1\u001b[0m \u001b[36mDL\u001b[0m:68\u001b[38;5;135mMiB\u001b[0m\u001b[35m】\u001b[0m"
                ]
              },
              {
                "output_type": "stream",
                "name": "stdout",
                "text": [
                  "\n",
                  "  490a79|\u001b[38;5;35mOK\u001b[0m  |    68MiB/s|\u001b[38;5;208m/\u001b[0mcontent\u001b[38;5;208m/\u001b[0mA1111\u001b[38;5;208m/\u001b[0mmodels\u001b[38;5;208m/\u001b[0mESRGAN\u001b[38;5;208m/\u001b[0m4x_NMKD-Superscale-SP_178000_G.pth\n"
                ]
              },
              {
                "output_type": "stream",
                "name": "stdout",
                "text": [
                  "  af6e7a|\u001b[38;5;35mOK\u001b[0m  |   237MiB/s|\u001b[38;5;208m/\u001b[0mcontent\u001b[38;5;208m/\u001b[0mA1111\u001b[38;5;208m/\u001b[0mmodels\u001b[38;5;208m/\u001b[0mESRGAN\u001b[38;5;208m/\u001b[0m8x_NMKD-Superscale_150000_G.pth\n"
                ]
              },
              {
                "output_type": "stream",
                "name": "stdout",
                "text": [
                  "  d43a3e|\u001b[38;5;35mOK\u001b[0m  |   175MiB/s|\u001b[38;5;208m/\u001b[0mcontent\u001b[38;5;208m/\u001b[0mA1111\u001b[38;5;208m/\u001b[0mmodels\u001b[38;5;208m/\u001b[0mESRGAN\u001b[38;5;208m/\u001b[0m4x_RealisticRescaler_100000_G.pth\n"
                ]
              },
              {
                "output_type": "stream",
                "name": "stdout",
                "text": [
                  "  5f1a39|\u001b[38;5;35mOK\u001b[0m  |   122MiB/s|\u001b[38;5;208m/\u001b[0mcontent\u001b[38;5;208m/\u001b[0mA1111\u001b[38;5;208m/\u001b[0mmodels\u001b[38;5;208m/\u001b[0mESRGAN\u001b[38;5;208m/\u001b[0m8x_RealESRGAN.pth\n"
                ]
              },
              {
                "output_type": "stream",
                "name": "stdout",
                "text": [
                  "\r                                                                                                                                                                                                                                                                                                            \r \u001b[35m【\u001b[0m\u001b[36m#\u001b[0m\u001b[38;5;35m14fdbc\u001b[0m 62\u001b[38;5;135mMiB\u001b[0m\u001b[35m/\u001b[0m63\u001b[38;5;135mMiB\u001b[0m\u001b[35m(\u001b[0m98%\u001b[35m)\u001b[0m \u001b[36mCN\u001b[0m:\u001b[38;5;208m1\u001b[0m \u001b[36mDL\u001b[0m:86\u001b[38;5;135mMiB\u001b[0m\u001b[35m】\u001b[0m"
                ]
              },
              {
                "output_type": "stream",
                "name": "stdout",
                "text": [
                  "\n",
                  "  14fdbc|\u001b[38;5;35mOK\u001b[0m  |    86MiB/s|\u001b[38;5;208m/\u001b[0mcontent\u001b[38;5;208m/\u001b[0mA1111\u001b[38;5;208m/\u001b[0mmodels\u001b[38;5;208m/\u001b[0mESRGAN\u001b[38;5;208m/\u001b[0m4x_foolhardy_Remacri.pth\n"
                ]
              },
              {
                "output_type": "stream",
                "name": "stdout",
                "text": [
                  "  5af210|\u001b[38;5;35mOK\u001b[0m  |   243MiB/s|\u001b[38;5;208m/\u001b[0mcontent\u001b[38;5;208m/\u001b[0mA1111\u001b[38;5;208m/\u001b[0mmodels\u001b[38;5;208m/\u001b[0mESRGAN\u001b[38;5;208m/\u001b[0m4x_NMKD-YandereNeoXL_200k.pth\n"
                ]
              },
              {
                "output_type": "stream",
                "name": "stdout",
                "text": [
                  "  967d6a|\u001b[38;5;35mOK\u001b[0m  |   114MiB/s|\u001b[38;5;208m/\u001b[0mcontent\u001b[38;5;208m/\u001b[0mA1111\u001b[38;5;208m/\u001b[0mmodels\u001b[38;5;208m/\u001b[0mESRGAN\u001b[38;5;208m/\u001b[0m4x_NMKD-UltraYandere_300k.pth\n"
                ]
              },
              {
                "output_type": "stream",
                "name": "stdout",
                "text": [
                  "  83334c|\u001b[38;5;35mOK\u001b[0m  |    28MiB/s|\u001b[38;5;208m/\u001b[0mcontent\u001b[38;5;208m/\u001b[0mA1111\u001b[38;5;208m/\u001b[0mhtml\u001b[38;5;208m/\u001b[0mcard-no-preview.png\n"
                ]
              },
              {
                "output_type": "stream",
                "name": "stdout",
                "text": [
                  "  666af6|\u001b[38;5;35mOK\u001b[0m  |    44MiB/s|\u001b[38;5;208m/\u001b[0mcontent\u001b[38;5;208m/\u001b[0mA1111\u001b[38;5;208m/\u001b[0membeddings.zip\n"
                ]
              },
              {
                "output_type": "stream",
                "name": "stdout",
                "text": [
                  "\r                                                                                                                                                                                                                                                                                                            \r \u001b[35m【\u001b[0m\u001b[36m#\u001b[0m\u001b[38;5;35m64868b\u001b[0m 185\u001b[38;5;135mMiB\u001b[0m\u001b[35m/\u001b[0m319\u001b[38;5;135mMiB\u001b[0m\u001b[35m(\u001b[0m58%\u001b[35m)\u001b[0m \u001b[36mCN\u001b[0m:\u001b[38;5;208m16\u001b[0m \u001b[36mDL\u001b[0m:251\u001b[38;5;135mMiB\u001b[0m\u001b[35m】\u001b[0m"
                ]
              },
              {
                "output_type": "stream",
                "name": "stdout",
                "text": [
                  "\n",
                  "  64868b|\u001b[38;5;35mOK\u001b[0m  |   254MiB/s|\u001b[38;5;208m/\u001b[0mcontent\u001b[38;5;208m/\u001b[0mA1111\u001b[38;5;208m/\u001b[0mmodels\u001b[38;5;208m/\u001b[0mVAE\u001b[38;5;208m/\u001b[0mvae-ft-mse-840000-ema-pruned.safetensors\n"
                ]
              },
              {
                "output_type": "stream",
                "name": "stdout",
                "text": [
                  "  2bcc73|\u001b[38;5;35mOK\u001b[0m  |    22MiB/s|\u001b[38;5;208m/\u001b[0mcontent\u001b[38;5;208m/\u001b[0mA1111\u001b[38;5;208m/\u001b[0membeddingsXL.zip\n"
                ]
              },
              {
                "output_type": "stream",
                "name": "stdout",
                "text": [
                  "\r                                                                                                                                                                                                                                                                                                            \r \u001b[35m【\u001b[0m\u001b[36m#\u001b[0m\u001b[38;5;35m6a6bf3\u001b[0m 139\u001b[38;5;135mMiB\u001b[0m\u001b[35m/\u001b[0m319\u001b[38;5;135mMiB\u001b[0m\u001b[35m(\u001b[0m43%\u001b[35m)\u001b[0m \u001b[36mCN\u001b[0m:\u001b[38;5;208m16\u001b[0m \u001b[36mDL\u001b[0m:191\u001b[38;5;135mMiB\u001b[0m\u001b[35m】\u001b[0m"
                ]
              },
              {
                "output_type": "stream",
                "name": "stdout",
                "text": [
                  "\n",
                  "  6a6bf3|\u001b[38;5;35mOK\u001b[0m  |   230MiB/s|\u001b[38;5;208m/\u001b[0mcontent\u001b[38;5;208m/\u001b[0mA1111\u001b[38;5;208m/\u001b[0mmodels\u001b[38;5;208m/\u001b[0mVAE\u001b[38;5;208m/\u001b[0msdxl_vae.safetensors\n"
                ]
              },
              {
                "output_type": "display_data",
                "data": {
                  "text/plain": "<IPython.core.display.HTML object>",
                  "text/html": "<span style='color:red;'><br><b>【</span> <span style='color:d;'>Installing Extensions</span> <span style='color:red;'>】</span> <span></b></span>"
                },
                "metadata": {}
              },
              {
                "output_type": "stream",
                "name": "stdout",
                "text": [
                  "  1-sd-dynamic-thresholding ▶ https://github.com/mcmonkeyprojects/sd-dynamic-thresholding\n"
                ]
              },
              {
                "output_type": "stream",
                "name": "stdout",
                "text": [
                  "  3-bmab ▶ https://github.com/gutris1/sd-webui-bmab\n"
                ]
              },
              {
                "output_type": "stream",
                "name": "stdout",
                "text": [
                  "  4-adetailer ▶ https://github.com/Bing-su/adetailer\n"
                ]
              },
              {
                "output_type": "stream",
                "name": "stdout",
                "text": [
                  "  sd-webui-supermerger ▶ https://github.com/hako-mikan/sd-webui-supermerger\n"
                ]
              },
              {
                "output_type": "stream",
                "name": "stdout",
                "text": [
                  "  sd-webui-infinite-image-browsing ▶ https://github.com/zanllp/sd-webui-infinite-image-browsing\n"
                ]
              },
              {
                "output_type": "stream",
                "name": "stdout",
                "text": [
                  "  a1111-sd-webui-tagcomplete ▶ https://github.com/DominikDoom/a1111-sd-webui-tagcomplete\n"
                ]
              },
              {
                "output_type": "stream",
                "name": "stdout",
                "text": [
                  "  ultimate-upscale-for-automatic1111 ▶ https://github.com/Coyote-A/ultimate-upscale-for-automatic1111\n"
                ]
              },
              {
                "output_type": "stream",
                "name": "stdout",
                "text": [
                  "  sd-webui-controlnet ▶ https://github.com/Mikubill/sd-webui-controlnet\n"
                ]
              },
              {
                "output_type": "stream",
                "name": "stdout",
                "text": [
                  "  DWPose ▶ https://github.com/IDEA-Research/DWPose\n"
                ]
              },
              {
                "output_type": "stream",
                "name": "stdout",
                "text": [
                  "  sd-hub ▶ https://github.com/gutris1/sd-hub\n"
                ]
              },
              {
                "output_type": "stream",
                "name": "stdout",
                "text": [
                  "  sd-image-info ▶ https://github.com/gutris1/sd-image-info\n"
                ]
              },
              {
                "output_type": "stream",
                "name": "stdout",
                "text": [
                  "  sd-image-viewer ▶ https://github.com/gutris1/sd-image-viewer\n"
                ]
              },
              {
                "output_type": "stream",
                "name": "stdout",
                "text": [
                  "  Scroll-Bar ▶ https://github.com/gutris1/Scroll-Bar\n"
                ]
              },
              {
                "output_type": "stream",
                "name": "stdout",
                "text": [
                  "  timer_timer ▶ https://github.com/gutris1/timer_timer\n"
                ]
              },
              {
                "output_type": "stream",
                "name": "stdout",
                "text": [
                  "  sd-simple-dimension-preset ▶ https://github.com/gutris1/sd-simple-dimension-preset\n"
                ]
              },
              {
                "output_type": "stream",
                "name": "stdout",
                "text": [
                  "  sd-civitai-browser-plus ▶ https://github.com/BlafKing/sd-civitai-browser-plus\n"
                ]
              }
            ]
          }
        },
        "4023c3dc7e354c83ad00a2dce72ac0a5": {
          "model_module": "@jupyter-widgets/base",
          "model_name": "LayoutModel",
          "model_module_version": "1.2.0",
          "state": {
            "_model_module": "@jupyter-widgets/base",
            "_model_module_version": "1.2.0",
            "_model_name": "LayoutModel",
            "_view_count": null,
            "_view_module": "@jupyter-widgets/base",
            "_view_module_version": "1.2.0",
            "_view_name": "LayoutView",
            "align_content": null,
            "align_items": null,
            "align_self": null,
            "border": null,
            "bottom": null,
            "display": null,
            "flex": null,
            "flex_flow": null,
            "grid_area": null,
            "grid_auto_columns": null,
            "grid_auto_flow": null,
            "grid_auto_rows": null,
            "grid_column": null,
            "grid_gap": null,
            "grid_row": null,
            "grid_template_areas": null,
            "grid_template_columns": null,
            "grid_template_rows": null,
            "height": null,
            "justify_content": null,
            "justify_items": null,
            "left": null,
            "margin": null,
            "max_height": null,
            "max_width": null,
            "min_height": null,
            "min_width": null,
            "object_fit": null,
            "object_position": null,
            "order": null,
            "overflow": null,
            "overflow_x": null,
            "overflow_y": null,
            "padding": null,
            "right": null,
            "top": null,
            "visibility": null,
            "width": null
          }
        },
        "6685be1ea9bf4b22a00c40caf918c937": {
          "model_module": "@jupyter-widgets/output",
          "model_name": "OutputModel",
          "model_module_version": "1.0.0",
          "state": {
            "_dom_classes": [],
            "_model_module": "@jupyter-widgets/output",
            "_model_module_version": "1.0.0",
            "_model_name": "OutputModel",
            "_view_count": null,
            "_view_module": "@jupyter-widgets/output",
            "_view_module_version": "1.0.0",
            "_view_name": "OutputView",
            "layout": "IPY_MODEL_647d31ad5aed4a74ac5ef48e03b94b41",
            "msg_id": "",
            "outputs": [
              {
                "output_type": "display_data",
                "data": {
                  "text/plain": "<IPython.core.display.HTML object>",
                  "text/html": "<span style='color:red;'><br><b>【</span> <span style='color:d;'>Done</span> <span style='color:red;'>】</span> <span></b></span>"
                },
                "metadata": {}
              }
            ]
          }
        },
        "647d31ad5aed4a74ac5ef48e03b94b41": {
          "model_module": "@jupyter-widgets/base",
          "model_name": "LayoutModel",
          "model_module_version": "1.2.0",
          "state": {
            "_model_module": "@jupyter-widgets/base",
            "_model_module_version": "1.2.0",
            "_model_name": "LayoutModel",
            "_view_count": null,
            "_view_module": "@jupyter-widgets/base",
            "_view_module_version": "1.2.0",
            "_view_name": "LayoutView",
            "align_content": null,
            "align_items": null,
            "align_self": null,
            "border": null,
            "bottom": null,
            "display": null,
            "flex": null,
            "flex_flow": null,
            "grid_area": null,
            "grid_auto_columns": null,
            "grid_auto_flow": null,
            "grid_auto_rows": null,
            "grid_column": null,
            "grid_gap": null,
            "grid_row": null,
            "grid_template_areas": null,
            "grid_template_columns": null,
            "grid_template_rows": null,
            "height": null,
            "justify_content": null,
            "justify_items": null,
            "left": null,
            "margin": null,
            "max_height": null,
            "max_width": null,
            "min_height": null,
            "min_width": null,
            "object_fit": null,
            "object_position": null,
            "order": null,
            "overflow": null,
            "overflow_x": null,
            "overflow_y": null,
            "padding": null,
            "right": null,
            "top": null,
            "visibility": null,
            "width": null
          }
        }
      }
    }
  },
  "cells": [
    {
      "cell_type": "markdown",
      "source": [
        "<a href=\"https://github.com/gutris1/segsmaker\">\n",
        "  <img alt=\"GitHub repo\" src=\"https://img.shields.io/badge/GitHub-6e5494?style=for-the-badge&logo=github&logoColor=white\"/>\n",
        "</a>"
      ],
      "metadata": {
        "id": "COlOWoTOMKSP"
      }
    },
    {
      "cell_type": "code",
      "execution_count": 1,
      "metadata": {
        "id": "tQqllRM-MCnT",
        "colab": {
          "base_uri": "https://localhost:8080/",
          "height": 972,
          "referenced_widgets": [
            "ac43c4baf16f44a48765a112b9a4c0b6",
            "4023c3dc7e354c83ad00a2dce72ac0a5",
            "6685be1ea9bf4b22a00c40caf918c937",
            "647d31ad5aed4a74ac5ef48e03b94b41"
          ]
        },
        "outputId": "99898ef0-9a1c-4c81-82f0-8b6090b796d1"
      },
      "outputs": [
        {
          "output_type": "display_data",
          "data": {
            "text/plain": [
              "Output()"
            ],
            "application/vnd.jupyter.widget-view+json": {
              "version_major": 2,
              "version_minor": 0,
              "model_id": "ac43c4baf16f44a48765a112b9a4c0b6"
            }
          },
          "metadata": {}
        },
        {
          "output_type": "display_data",
          "data": {
            "text/plain": [
              "Output()"
            ],
            "application/vnd.jupyter.widget-view+json": {
              "version_major": 2,
              "version_minor": 0,
              "model_id": "6685be1ea9bf4b22a00c40caf918c937"
            }
          },
          "metadata": {}
        }
      ],
      "source": [
        "# @title <b><font color='orange'>WebUI Installer</font></b> {\"display-mode\":\"form\"}\n",
        "\n",
        "Webui = 'A1111' # @param [\"A1111\", \"Forge\", \"ComfyUI\", \"ReForge\", \"SwarmUI\"]\n",
        "Civitai___Key = 'https://civitai.com/api/v1/creators' # @param { \"type\": \"string\", \"placeholder\": \"Your Civitai API key (required)\" }\n",
        "HF_Read_Token = '' # @param {type:\"string\", placeholder:\"Your Huggingface READ token (optional)\"}\n",
        "Mount_GDrive = 'No' # @param [\"Yes\", \"No\"]\n",
        "BGM = '' # @param {type:\"string\", placeholder:\"youtube video id, default to dQw4w9WgXcQ\"}\n",
        "\n",
        "!curl -sLo /content/setup.py https://github.com/gutris1/segsmaker/raw/main/script/KC/setup.py\n",
        "\n",
        "if Mount_GDrive == 'Yes':\n",
        "    from google.colab import drive\n",
        "    drive.mount('/content/drive')\n",
        "\n",
        "%run /content/setup.py --webui=\"$Webui\" --civitai_key=\"$Civitai___Key\" --hf_read_token=\"$HF_Read_Token\" --bgm=\"$BGM\"\n",
        "\n",
        "from pathlib import Path\n",
        "\n",
        "if Mount_GDrive == 'Yes':\n",
        "    d = Path('/content/drive/MyDrive/Segsmaker')\n",
        "\n",
        "    for n, p in {'checkpoint': CKPT, 'lora': LORA, 'vae': VAE, 'embeddings': Embeddings}.items(): # type: ignore\n",
        "        f = d / n\n",
        "        f.mkdir(parents=True, exist_ok=True)\n",
        "        s = p / f'drive-{n}'\n",
        "        s.symlink_to(f, target_is_directory=True)\n",
        "\n",
        "    !rm -rf $WebUI_Output\n",
        "    o = d / {'ComfyUI': 'comfyui-output', 'SwarmUI': 'swarmui-output'}.get(Webui, 'output')\n",
        "    o.mkdir(parents=True, exist_ok=True)\n",
        "    WebUI_Output.symlink_to(o, target_is_directory=True)"
      ]
    },
    {
      "cell_type": "code",
      "source": [
        "''' These are placeholders for commands with empty inputs. '''\n",
        "''' Replace them with actual values or skip/delete this cell. '''\n",
        "\n",
        "\n",
        "''' SD Extensions / ComfyUI Custom Nodes '''\n",
        "%cd -q $Extensions\n",
        "!git clone\n",
        "\n",
        "''' VAE '''\n",
        "%cd -q $VAE\n",
        "%download\n",
        "\n",
        "''' Embeddings '''\n",
        "%cd -q $Embeddings\n",
        "%download\n",
        "\n",
        "''' Upscalers '''\n",
        "%cd -q $Upscalers\n",
        "%download\n",
        "\n",
        "''' FLUX Unet '''\n",
        "%cd -q $UNET\n",
        "%download\n",
        "\n",
        "''' FLUX Clip '''\n",
        "%cd -q $CLIP\n",
        "%download"
      ],
      "metadata": {
        "id": "9TeZZ9WrOsxS"
      },
      "execution_count": null,
      "outputs": []
    },
    {
      "cell_type": "code",
      "source": [
        "''' Checkpoint '''\n",
        "%cd -q $CKPT\n",
        "%download https://civitai.com/models/1224788/prefect-illustrious-xl?modelVersionId=1379960\n",
        "\n",
        "''' LoRA '''\n",
        "%cd -q $LORA\n",
        "%download https://civitai.com/models/122359/detail-tweaker-xl\n",
        "%download https://civitai.com/models/669571/pony-add-more-details"
      ],
      "metadata": {
        "id": "CuR9tiSnPRBM",
        "colab": {
          "base_uri": "https://localhost:8080/"
        },
        "outputId": "39403022-2a14-40db-9726-9028ce0708ed"
      },
      "execution_count": 2,
      "outputs": [
        {
          "output_type": "stream",
          "name": "stdout",
          "text": [
            "  46e7fb|\u001b[38;5;35mOK\u001b[0m  |   154KiB/s|\u001b[38;5;208m/\u001b[0mcontent\u001b[38;5;208m/\u001b[0mA1111\u001b[38;5;208m/\u001b[0mmodels\u001b[38;5;208m/\u001b[0mStable-diffusion\u001b[38;5;208m/\u001b[0mlogin\n",
            " \u001b[35m【\u001b[0m\u001b[36m#\u001b[0m\u001b[38;5;35m31a463\u001b[0m 139\u001b[38;5;135mMiB\u001b[0m\u001b[35m/\u001b[0m217\u001b[38;5;135mMiB\u001b[0m\u001b[35m(\u001b[0m63%\u001b[35m)\u001b[0m \u001b[36mCN\u001b[0m:\u001b[38;5;208m16\u001b[0m \u001b[36mDL\u001b[0m:142\u001b[38;5;135mMiB\u001b[0m\u001b[35m】\u001b[0m\n",
            "  31a463|\u001b[38;5;35mOK\u001b[0m  |   140MiB/s|\u001b[38;5;208m/\u001b[0mcontent\u001b[38;5;208m/\u001b[0mA1111\u001b[38;5;208m/\u001b[0mmodels\u001b[38;5;208m/\u001b[0mLora\u001b[38;5;208m/\u001b[0madd-detail-xl.safetensors\n",
            " \u001b[35m【\u001b[0m\u001b[36m#\u001b[0m\u001b[38;5;35m750faa\u001b[0m 34\u001b[38;5;135mKiB\u001b[0m\u001b[35m/\u001b[0m0\u001b[38;5;135mB\u001b[0m \u001b[36mCN\u001b[0m:\u001b[38;5;208m1\u001b[0m \u001b[36mDL\u001b[0m:3.0\u001b[38;5;135mMiB\u001b[0m\u001b[35m】\u001b[0m\n",
            "  750faa|\u001b[38;5;35mOK\u001b[0m  |   107KiB/s|\u001b[38;5;208m/\u001b[0mcontent\u001b[38;5;208m/\u001b[0mA1111\u001b[38;5;208m/\u001b[0mmodels\u001b[38;5;208m/\u001b[0mLora\u001b[38;5;208m/\u001b[0mlogin\n"
          ]
        }
      ]
    },
    {
      "cell_type": "code",
      "source": [
        "''' Controlnet '''\n",
        "%run $Controlnet_Widget"
      ],
      "metadata": {
        "id": "wO4OTCOWALEc"
      },
      "execution_count": null,
      "outputs": []
    },
    {
      "cell_type": "markdown",
      "source": [
        "## Launcher\n",
        "args list :\n",
        "-  **A1111** = `--xformers`\n",
        "- **Forge** = `--disable-xformers --opt-sdp-attention --cuda-stream --pin-shared-memory`\n",
        "- **ComfyUI** = `--dont-print-server --preview-method auto --use-pytorch-cross-attention`\n",
        "- **ReForge** = `--xformers --cuda-stream --pin-shared-memory`\n",
        "- **SwarmUI** = `--launch_mode none`\n",
        "<br><br>\n",
        "\n",
        "For ComfyUI, add `--skip-comfyui-check` to skip checking the main requirements and custom node dependencies\n",
        "\n",
        "Add **--N=ngrok_token** to start NGROK tunnel<br>\n",
        "Add **--Z=zrok_token** to start ZROK tunnel"
      ],
      "metadata": {
        "id": "BB8pCZnrQnR9"
      }
    },
    {
      "cell_type": "code",
      "source": [
        "%cd -q $WebUI\n",
        "%run segsmaker.py --xformers"
      ],
      "metadata": {
        "id": "ps7AEUdGX2iE",
        "colab": {
          "base_uri": "https://localhost:8080/"
        },
        "outputId": "8bc1d448-22c0-42d0-d11c-41e051a9620e"
      },
      "execution_count": null,
      "outputs": [
        {
          "output_type": "stream",
          "name": "stdout",
          "text": [
            "Python 3.10.15 (main, Oct 16 2024, 04:37:23) [Clang 18.1.8 ]\n",
            "Version: v1.10.1\n",
            "Commit hash: 82a973c04367123ae98bd9abdf80d9eda9b910e2\n",
            "Installing None\n",
            "Launching Web UI with arguments: --xformers --enable-insecure-extension-access --disable-console-progressbars --theme dark --share\n",
            "\u001b[1m[\u001b[0m-\u001b[1m]\u001b[0m ADetailer initialized. version: \u001b[1;36m25.3\u001b[0m.\u001b[1;36m0\u001b[0m, num models: \u001b[1;36m10\u001b[0m\n",
            "Tag Autocomplete: Could not locate model-keyword extension, Lora trigger word completion will be limited to those added through the extra networks menu.\n",
            "\u001b[96mCivitAI Browser+\u001b[0m: Aria2 RPC started\n",
            "\u001b[38;5;208m▶\u001b[0m SD-Hub: \u001b[38;5;39mv9.0.0\u001b[0m\n",
            "ControlNet preprocessor location: /content/A1111/extensions/sd-webui-controlnet/annotator/downloads\n",
            "2025-04-30 19:45:17,497 - ControlNet - \u001b[0;32mINFO\u001b[0m - ControlNet v1.1.455\n",
            "Loading weights [3a2df45ef8] from /content/A1111/models/Stable-diffusion/prefectIllustriousXL_v10.safetensors\n",
            "2025-04-30 19:45:19,558 - ControlNet - \u001b[0;32mINFO\u001b[0m - ControlNet UI callback registered.\n",
            "Creating model from config: /content/A1111/repositories/generative-models/configs/inference/sd_xl_base.yaml\n",
            "SD-Hub : Huggingface Token (READ) Not Found, Civitai API Key Loaded\n",
            "SD-Hub : Huggingface Token (WRITE) Not Found\n",
            "[ERROR]: Config states /content/A1111/config_states/civitai_subfolders.json, \"created_at\" does not exist\n",
            "Running on local URL:  http://127.0.0.1:7860\n",
            "Running on public URL: https://0e419db324c51dd05a.gradio.live\n",
            "\n",
            "This share link expires in 72 hours. For free permanent hosting and GPU upgrades, run `gradio deploy` from Terminal to deploy to Spaces (https://huggingface.co/spaces)\n",
            "\u001b[92mIIB Database file has been successfully backed up to the backup folder.\u001b[0m\n",
            "Startup time: 49.8s (prepare environment: 23.2s, import torch: 7.9s, import gradio: 2.6s, setup paths: 1.6s, initialize shared: 0.2s, other imports: 0.6s, load scripts: 4.4s, initialize extra networks: 0.1s, create ui: 6.9s, gradio launch: 2.1s, app_started_callback: 0.2s).\n",
            "\n",
            "🟢 Pinggy \u001b[38;5;208m:\u001b[0m https://rnzkk-34-126-155-118.a.free.pinggy.link\n",
            "\n",
            "🟢 Cloudflared \u001b[38;5;208m:\u001b[0m http://stomach-riverside-comment-threaded.trycloudflare.com \n",
            "\n",
            "Applying attention optimization: xformers... done.\n",
            "Model loaded in 44.0s (load weights from disk: 6.0s, create model: 1.8s, apply weights to model: 34.2s, apply half(): 0.3s, move model to device: 0.1s, load textual inversion embeddings: 0.6s, calculate empty prompt: 0.9s).\n",
            "Error parsing \"Hires prompt: \"\n",
            "Error parsing \"Hires negative prompt: \"\n",
            "100% 28/28 [00:42<00:00,  1.52s/it]\n",
            "tiled upscale: 100% 15/15 [00:05<00:00,  2.75it/s]\n",
            "tiled upscale: 100% 15/15 [00:05<00:00,  2.81it/s]\n",
            "tiled upscale: 100% 15/15 [00:05<00:00,  2.80it/s]\n",
            "tiled upscale: 100% 15/15 [00:05<00:00,  2.83it/s]\n",
            "100% 28/28 [02:35<00:00,  5.55s/it]\n",
            "100% 28/28 [00:20<00:00,  1.39it/s]\n",
            "tiled upscale: 100% 15/15 [00:05<00:00,  2.81it/s]\n",
            "tiled upscale: 100% 15/15 [00:05<00:00,  2.81it/s]\n",
            "100% 28/28 [01:17<00:00,  2.75s/it]\n",
            "100% 28/28 [00:20<00:00,  1.37it/s]\n",
            "tiled upscale: 100% 15/15 [00:05<00:00,  2.79it/s]\n",
            "tiled upscale: 100% 15/15 [00:05<00:00,  2.78it/s]\n",
            "100% 28/28 [01:16<00:00,  2.75s/it]\n",
            "100% 28/28 [00:17<00:00,  1.57it/s]\n",
            "tiled upscale: 100% 15/15 [00:05<00:00,  2.77it/s]\n",
            "tiled upscale: 100% 15/15 [00:05<00:00,  2.80it/s]\n",
            "100% 28/28 [01:17<00:00,  2.75s/it]\n",
            "100% 28/28 [00:17<00:00,  1.60it/s]\n",
            "tiled upscale: 100% 15/15 [00:05<00:00,  2.83it/s]\n",
            "tiled upscale: 100% 15/15 [00:05<00:00,  2.79it/s]\n",
            "100% 28/28 [01:17<00:00,  2.76s/it]\n",
            "100% 28/28 [00:17<00:00,  1.59it/s]\n",
            "tiled upscale: 100% 15/15 [00:05<00:00,  2.81it/s]\n",
            "tiled upscale: 100% 15/15 [00:05<00:00,  2.78it/s]\n",
            "100% 28/28 [01:17<00:00,  2.75s/it]\n",
            "100% 28/28 [00:17<00:00,  1.58it/s]\n",
            "tiled upscale: 100% 15/15 [00:05<00:00,  2.78it/s]\n",
            "tiled upscale: 100% 15/15 [00:05<00:00,  2.80it/s]\n",
            "100% 28/28 [01:17<00:00,  2.75s/it]\n",
            "100% 28/28 [00:35<00:00,  1.25s/it]\n",
            "tiled upscale: 100% 15/15 [00:05<00:00,  2.79it/s]\n",
            "tiled upscale: 100% 15/15 [00:05<00:00,  2.79it/s]\n",
            "tiled upscale: 100% 15/15 [00:05<00:00,  2.84it/s]\n",
            "tiled upscale: 100% 15/15 [00:05<00:00,  2.82it/s]\n",
            "100% 28/28 [02:35<00:00,  5.55s/it]\n",
            "100% 28/28 [00:35<00:00,  1.25s/it]\n",
            "tiled upscale: 100% 15/15 [00:05<00:00,  2.81it/s]\n",
            "tiled upscale: 100% 15/15 [00:05<00:00,  2.81it/s]\n",
            "tiled upscale: 100% 15/15 [00:05<00:00,  2.83it/s]\n",
            "tiled upscale: 100% 15/15 [00:05<00:00,  2.84it/s]\n",
            "100% 28/28 [02:35<00:00,  5.55s/it]\n",
            "100% 28/28 [00:34<00:00,  1.25s/it]\n",
            "tiled upscale: 100% 15/15 [00:05<00:00,  2.77it/s]\n",
            "tiled upscale: 100% 15/15 [00:05<00:00,  2.83it/s]\n",
            "tiled upscale: 100% 15/15 [00:05<00:00,  2.81it/s]\n",
            "tiled upscale: 100% 15/15 [00:05<00:00,  2.85it/s]\n",
            "100% 28/28 [02:35<00:00,  5.54s/it]\n",
            "100% 28/28 [00:17<00:00,  1.59it/s]\n",
            "tiled upscale: 100% 15/15 [00:05<00:00,  2.80it/s]\n",
            "tiled upscale: 100% 15/15 [00:05<00:00,  2.80it/s]\n",
            "100% 28/28 [01:17<00:00,  2.76s/it]\n",
            "100% 28/28 [00:19<00:00,  1.42it/s]\n",
            "tiled upscale: 100% 15/15 [00:05<00:00,  2.78it/s]\n",
            "tiled upscale: 100% 15/15 [00:05<00:00,  2.82it/s]\n",
            "100% 28/28 [01:20<00:00,  2.87s/it]\n",
            "100% 28/28 [00:17<00:00,  1.58it/s]\n",
            "tiled upscale: 100% 15/15 [00:05<00:00,  2.80it/s]\n",
            "tiled upscale: 100% 15/15 [00:05<00:00,  2.78it/s]\n",
            "100% 28/28 [01:16<00:00,  2.75s/it]\n",
            "100% 28/28 [00:19<00:00,  1.43it/s]\n",
            "tiled upscale: 100% 15/15 [00:05<00:00,  2.80it/s]\n",
            "tiled upscale: 100% 15/15 [00:05<00:00,  2.78it/s]\n",
            "100% 28/28 [01:20<00:00,  2.87s/it]\n",
            "100% 28/28 [00:19<00:00,  1.40it/s]\n",
            "tiled upscale: 100% 15/15 [00:05<00:00,  2.80it/s]\n",
            "tiled upscale: 100% 15/15 [00:05<00:00,  2.76it/s]\n",
            "100% 28/28 [01:20<00:00,  2.87s/it]\n",
            "100% 28/28 [00:19<00:00,  1.44it/s]\n",
            "tiled upscale: 100% 15/15 [00:05<00:00,  2.80it/s]\n",
            "tiled upscale: 100% 15/15 [00:05<00:00,  2.78it/s]\n",
            "100% 28/28 [01:20<00:00,  2.88s/it]\n",
            "100% 28/28 [00:19<00:00,  1.43it/s]\n",
            "tiled upscale: 100% 15/15 [00:05<00:00,  2.78it/s]\n",
            "tiled upscale: 100% 15/15 [00:05<00:00,  2.79it/s]\n",
            "100% 28/28 [01:20<00:00,  2.87s/it]\n",
            "100% 28/28 [00:19<00:00,  1.44it/s]\n",
            "tiled upscale: 100% 15/15 [00:05<00:00,  2.82it/s]\n",
            "tiled upscale: 100% 15/15 [00:05<00:00,  2.78it/s]\n",
            "100% 28/28 [01:20<00:00,  2.87s/it]\n",
            "100% 28/28 [00:19<00:00,  1.44it/s]\n",
            "tiled upscale: 100% 15/15 [00:05<00:00,  2.80it/s]\n",
            "tiled upscale: 100% 15/15 [00:05<00:00,  2.80it/s]\n",
            "100% 28/28 [01:20<00:00,  2.88s/it]\n"
          ]
        }
      ]
    }
  ]
}